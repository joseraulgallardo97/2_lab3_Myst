{
 "cells": [
  {
   "cell_type": "markdown",
   "metadata": {},
   "source": [
    "<img style=\"float: right; margin: 0px 0px 15px 15px;\" src=\"https://www.carrerasenlinea.mx/logos/original/logo-instituto-tecnologico-y-de-estudios-superiores-de-occidente.png\" width=\"150px\" height=\"100px\" /> \n",
    "\n",
    "\n",
    "&nbsp;\n",
    "# Behavioral Economics En trading\n",
    "## Equipo 2\n",
    "\n",
    "**Ana Laura Correa**\n",
    "\n",
    "\n",
    "**Emilio de la Torre**\n",
    "\n",
    "\n",
    "**José Raúl Gallardo**\n",
    "\n",
    "\n",
    "**Tere Castillo**\n"
   ]
  },
  {
   "cell_type": "markdown",
   "metadata": {},
   "source": [
    "El propósito: Que utilices la información histórica de la cuenta de trading manual y, mediante la formulación y programación de 3 \"Sesgos cognitivos\", realices una evaluación del desempeño de la cuenta utilizando el marco de \"Behavioral economics\". Con la finalidad de inferir si al momento de tomar las decisiones que se tomaron en esa cuenta, se estuvo incurriendo en esos 3 \"Sesgos cognitivos\" y su impacto en el resultado final."
   ]
  },
  {
   "cell_type": "markdown",
   "metadata": {},
   "source": [
    "# Sesgos cognitivos"
   ]
  },
  {
   "cell_type": "markdown",
   "metadata": {},
   "source": [
    "Un sesgo cognitivo es un efecto psicológico que produce una desviación, es un conjunto de prejuicios o predispocisiones que tienen las personas y que le hacen decantarse por unas opciones en detrimento de otras."
   ]
  },
  {
   "cell_type": "markdown",
   "metadata": {},
   "source": [
    "## Sesgo de Anclaje"
   ]
  },
  {
   "cell_type": "markdown",
   "metadata": {},
   "source": [
    "El efecto anclaje, describe la tendencia de las personas a quedarse con la primera información que se les ofrece, la cual influye en la toma de decisiones posteriores."
   ]
  },
  {
   "cell_type": "markdown",
   "metadata": {},
   "source": [
    "Cuando se tiene un anclaje el resto de opiniones se forman alrededor de esta información, de ahí que se considere un sesgo cognitivo. Esta es una tendencia a determinar un punto de partida a raíz de la cual desarrollaremos nuestras opiniones y decisiones."
   ]
  },
  {
   "cell_type": "markdown",
   "metadata": {},
   "source": [
    "#### Caso de la vida real"
   ]
  },
  {
   "cell_type": "markdown",
   "metadata": {},
   "source": [
    "El hecho de levantarse cada mañana y seguir una rutina para ir a la escuela, implica hacer lo mismo día tras día. El individuo se encuentra \"anclado\" a realizar acciones muy particulares y en un orden determinado para lograr su cometido."
   ]
  },
  {
   "cell_type": "markdown",
   "metadata": {},
   "source": [
    "#### Caso de trading"
   ]
  },
  {
   "cell_type": "markdown",
   "metadata": {},
   "source": [
    "En este caso, el sesgo de anclaje se pretende analizar desde la perspectiva de la moneda con la cual se realizaron más operaciones y a partir de ésta se analizan los pips, tanto los del stop loss y los del take profit. \n",
    "Si se establecen los mismos parámetros que la primera operación o desde la cual queramos analizar para futuras transacciones se puede decir que están sesgadas las decisiones."
   ]
  },
  {
   "cell_type": "markdown",
   "metadata": {},
   "source": [
    "### Pseudo-código"
   ]
  },
  {
   "cell_type": "markdown",
   "metadata": {},
   "source": [
    "Para poder programar el código se sigue la siguiente metodología:\n",
    "1. Se cuenta cuántas transacciones se hicieron con los diferentes tipos de divisa.\n",
    "2. Se calcula qué porcentaje representa del total.\n",
    "3. Se ordenan en orden descendente.\n",
    "4. La divisa que tiene más transacciones se tomará como base para el sesgo.\n",
    "5. Las transacciones se ordenan de la más antigua a la más reciente.\n",
    "6. Se calculan los pips del stop loss y del take profit.\n",
    "7. La referencia es la primer transacción, si las siguientes tienen la misma cantidad de pips existe un sesgo.\n",
    "8. Para el gráfico, se toma la tabla con el conteo de transacción por divisa y se calcula la suma acumulada del porcentaje.\n",
    "9. El gráfico de barras indicará las veces que se operó esa divisa y la suma acumulada es para un gráfico de línea y ver con cuáles hemos tenido el mayor volumen de transacción."
   ]
  },
  {
   "cell_type": "markdown",
   "metadata": {},
   "source": [
    "## Código"
   ]
  },
  {
   "cell_type": "code",
   "execution_count": 1,
   "metadata": {},
   "outputs": [],
   "source": [
    "# Es necesario tener instalado plotly, el comando es el siguiente: pip install plotly\n",
    "import numpy as np\n",
    "import pandas as pd\n",
    "import plotly.graph_objs as go\n",
    "from plotly.subplots import make_subplots\n",
    "from plotly.offline import download_plotlyjs, init_notebook_mode, plot, iplot\n",
    "import plotly.offline as py\n",
    "import function_json2 as fi # Funcion definida para importar archivos\n",
    "import f_bf_sanclaje as anc # Funcion que tiene el sesgo de anclaje"
   ]
  },
  {
   "cell_type": "code",
   "execution_count": 2,
   "metadata": {},
   "outputs": [
    {
     "ename": "NameError",
     "evalue": "name 'pd' is not defined",
     "output_type": "error",
     "traceback": [
      "\u001b[1;31m---------------------------------------------------------------------------\u001b[0m",
      "\u001b[1;31mNameError\u001b[0m                                 Traceback (most recent call last)",
      "\u001b[1;32m<ipython-input-2-ef52237396e1>\u001b[0m in \u001b[0;36m<module>\u001b[1;34m\u001b[0m\n\u001b[0;32m      1\u001b[0m \u001b[0mdf\u001b[0m \u001b[1;33m=\u001b[0m \u001b[0mfi\u001b[0m\u001b[1;33m.\u001b[0m\u001b[0mf_datosent\u001b[0m\u001b[1;33m(\u001b[0m\u001b[0mp0_archivo\u001b[0m \u001b[1;33m=\u001b[0m \u001b[1;34m'archivo_tradeview_2.xlsx'\u001b[0m\u001b[1;33m)\u001b[0m \u001b[1;31m# Se importa archivo\u001b[0m\u001b[1;33m\u001b[0m\u001b[1;33m\u001b[0m\u001b[0m\n\u001b[1;32m----> 2\u001b[1;33m \u001b[0mprueba\u001b[0m \u001b[1;33m=\u001b[0m \u001b[0manc\u001b[0m\u001b[1;33m.\u001b[0m\u001b[0mf_bf_anclaje\u001b[0m\u001b[1;33m(\u001b[0m\u001b[0mdf\u001b[0m\u001b[1;33m)\u001b[0m \u001b[1;31m# Prueba del sesgo establecido\u001b[0m\u001b[1;33m\u001b[0m\u001b[1;33m\u001b[0m\u001b[0m\n\u001b[0m",
      "\u001b[1;32m~\\Desktop\\2_lab3_Myst\\f_bf_sanclaje.py\u001b[0m in \u001b[0;36mf_bf_anclaje\u001b[1;34m(p0_df, p1_n)\u001b[0m\n\u001b[0;32m     24\u001b[0m \u001b[1;33m\u001b[0m\u001b[0m\n\u001b[0;32m     25\u001b[0m     \u001b[1;31m# Construccion del DataFrame a utilizar para el pareto\u001b[0m\u001b[1;33m\u001b[0m\u001b[1;33m\u001b[0m\u001b[1;33m\u001b[0m\u001b[0m\n\u001b[1;32m---> 26\u001b[1;33m     \u001b[0mpareto\u001b[0m \u001b[1;33m=\u001b[0m \u001b[0mpd\u001b[0m\u001b[1;33m.\u001b[0m\u001b[0mDataFrame\u001b[0m\u001b[1;33m(\u001b[0m\u001b[1;33m{\u001b[0m\u001b[1;34m'Percentage'\u001b[0m\u001b[1;33m:\u001b[0m\u001b[1;33m(\u001b[0m\u001b[0mp0_df\u001b[0m\u001b[1;33m[\u001b[0m\u001b[1;34m'Symbol'\u001b[0m\u001b[1;33m]\u001b[0m\u001b[1;33m.\u001b[0m\u001b[0mvalue_counts\u001b[0m\u001b[1;33m(\u001b[0m\u001b[1;33m)\u001b[0m\u001b[1;33m/\u001b[0m\u001b[0mp0_df\u001b[0m\u001b[1;33m[\u001b[0m\u001b[1;34m'Symbol'\u001b[0m\u001b[1;33m]\u001b[0m\u001b[1;33m.\u001b[0m\u001b[0mcount\u001b[0m\u001b[1;33m(\u001b[0m\u001b[1;33m)\u001b[0m\u001b[1;33m)\u001b[0m\u001b[1;33m*\u001b[0m\u001b[1;36m100\u001b[0m\u001b[1;33m}\u001b[0m\u001b[1;33m)\u001b[0m \u001b[1;31m#% de participacion\u001b[0m\u001b[1;33m\u001b[0m\u001b[1;33m\u001b[0m\u001b[0m\n\u001b[0m\u001b[0;32m     27\u001b[0m     \u001b[0mpareto\u001b[0m \u001b[1;33m=\u001b[0m \u001b[0mpareto\u001b[0m\u001b[1;33m.\u001b[0m\u001b[0msort_values\u001b[0m\u001b[1;33m(\u001b[0m\u001b[0mby\u001b[0m\u001b[1;33m=\u001b[0m\u001b[1;34m'Percentage'\u001b[0m\u001b[1;33m,\u001b[0m\u001b[0mascending\u001b[0m\u001b[1;33m=\u001b[0m\u001b[1;32mFalse\u001b[0m\u001b[1;33m)\u001b[0m \u001b[1;31m#Sort de mayor a menor % para linea\u001b[0m\u001b[1;33m\u001b[0m\u001b[1;33m\u001b[0m\u001b[0m\n\u001b[0;32m     28\u001b[0m     \u001b[0mpareto\u001b[0m\u001b[1;33m[\u001b[0m\u001b[1;34m'TransactionC'\u001b[0m\u001b[1;33m]\u001b[0m \u001b[1;33m=\u001b[0m \u001b[0mlist\u001b[0m\u001b[1;33m(\u001b[0m\u001b[0mp0_df\u001b[0m\u001b[1;33m[\u001b[0m\u001b[1;34m'Symbol'\u001b[0m\u001b[1;33m]\u001b[0m\u001b[1;33m.\u001b[0m\u001b[0mvalue_counts\u001b[0m\u001b[1;33m(\u001b[0m\u001b[1;33m)\u001b[0m\u001b[1;33m)\u001b[0m \u001b[1;31m#Conteo de valores para grafico de barras\u001b[0m\u001b[1;33m\u001b[0m\u001b[1;33m\u001b[0m\u001b[0m\n",
      "\u001b[1;31mNameError\u001b[0m: name 'pd' is not defined"
     ]
    }
   ],
   "source": [
    "df = fi.f_datosent(p0_archivo = 'archivo_tradeview_2.xlsx') # Se importa archivo\n",
    "prueba = anc.f_bf_anclaje(df) # Prueba del sesgo establecido"
   ]
  },
  {
   "cell_type": "markdown",
   "metadata": {},
   "source": [
    "### Definición"
   ]
  },
  {
   "cell_type": "code",
   "execution_count": null,
   "metadata": {},
   "outputs": [],
   "source": [
    "prueba['explicacion']"
   ]
  },
  {
   "cell_type": "markdown",
   "metadata": {},
   "source": [
    "### DataFrame de Salida"
   ]
  },
  {
   "cell_type": "code",
   "execution_count": null,
   "metadata": {
    "scrolled": true
   },
   "outputs": [],
   "source": [
    "prueba['datos'] # DataFrame"
   ]
  },
  {
   "cell_type": "markdown",
   "metadata": {},
   "source": [
    "### Gráfico"
   ]
  },
  {
   "cell_type": "code",
   "execution_count": null,
   "metadata": {
    "scrolled": false
   },
   "outputs": [],
   "source": [
    "prueba['grafica'] # Grafica"
   ]
  },
  {
   "cell_type": "markdown",
   "metadata": {},
   "source": [
    "### Escala"
   ]
  },
  {
   "cell_type": "code",
   "execution_count": null,
   "metadata": {},
   "outputs": [],
   "source": [
    "round(prueba['escala'],3) # Porcentaje"
   ]
  },
  {
   "cell_type": "markdown",
   "metadata": {},
   "source": [
    "## Conclusiones"
   ]
  },
  {
   "cell_type": "markdown",
   "metadata": {},
   "source": [
    "El sesgo de anclaje puede ser un efecto psicológico poco presente en los participantes del mercado, imaginémonos el caso donde un individuo trunca su ganancia por poner $x$ cantidad de pips en el take profit y el mercado sigue llevando dicha divisa a niveles más altos; la persona que realizó ese movimiento probablemente eleve ese límite o lo elimine. Donde podríamos encontrar más consistencia es en el stop loss, dado que la mayoría de los participantes tienen bien definido cuánto es lo que tolerarían perder en una apuesta así."
   ]
  }
 ],
 "metadata": {
  "kernelspec": {
   "display_name": "Python 3",
   "language": "python",
   "name": "python3"
  },
  "language_info": {
   "codemirror_mode": {
    "name": "ipython",
    "version": 3
   },
   "file_extension": ".py",
   "mimetype": "text/x-python",
   "name": "python",
   "nbconvert_exporter": "python",
   "pygments_lexer": "ipython3",
   "version": "3.7.1"
  }
 },
 "nbformat": 4,
 "nbformat_minor": 2
}
