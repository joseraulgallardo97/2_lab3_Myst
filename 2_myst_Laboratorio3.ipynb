{
 "cells": [
  {
   "cell_type": "markdown",
   "metadata": {},
   "source": [
    "<img style=\"float: right; margin: 0px 0px 15px 15px;\" src=\"https://www.carrerasenlinea.mx/logos/original/logo-instituto-tecnologico-y-de-estudios-superiores-de-occidente.png\" width=\"150px\" height=\"100px\" /> \n",
    "\n",
    "\n",
    "&nbsp;\n",
    "# Behavioral Economics En trading\n",
    "## Equipo 2\n",
    "\n",
    "**Ana Laura Correa**\n",
    "\n",
    "\n",
    "**Emilio de la Torre**\n",
    "\n",
    "\n",
    "**José Raúl Gallardo**\n",
    "\n",
    "\n",
    "**Tere Castillo**\n"
   ]
  },
  {
   "cell_type": "markdown",
   "metadata": {},
   "source": [
    "El propósito: Que utilices la información histórica de la cuenta de trading manual y, mediante la formulación y programación de 3 \"Sesgos cognitivos\", realices una evaluación del desempeño de la cuenta utilizando el marco de \"Behavioral economics\". Con la finalidad de inferir si al momento de tomar las decisiones que se tomaron en esa cuenta, se estuvo incurriendo en esos 3 \"Sesgos cognitivos\" y su impacto en el resultado final."
   ]
  },
  {
   "cell_type": "code",
   "execution_count": null,
   "metadata": {},
   "outputs": [],
   "source": []
  }
 ],
 "metadata": {
  "kernelspec": {
   "display_name": "Python 3",
   "language": "python",
   "name": "python3"
  },
  "language_info": {
   "codemirror_mode": {
    "name": "ipython",
    "version": 3
   },
   "file_extension": ".py",
   "mimetype": "text/x-python",
   "name": "python",
   "nbconvert_exporter": "python",
   "pygments_lexer": "ipython3",
   "version": "3.6.4"
  }
 },
 "nbformat": 4,
 "nbformat_minor": 2
}
